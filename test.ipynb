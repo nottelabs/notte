{
 "cells": [
  {
   "cell_type": "code",
   "execution_count": null,
   "metadata": {},
   "outputs": [],
   "source": [
    "from examples.falco.agent import FalcoAgent as Agent, FalcoAgentConfig as AgentConfig\n",
    "\n",
    "config: AgentConfig = AgentConfig().cerebras().dev_mode() \n",
    "config.env.disable_web_security().not_headless().cerebras().steps(15) \n",
    "agent: Agent = Agent(config=config)\n",
    "await agent.run(task =\"Go to Reddit, search for 'browser-use', click on the first post and return the first comment.\")"
   ]
  },
  {
   "cell_type": "code",
   "execution_count": 1,
   "metadata": {},
   "outputs": [],
   "source": [
    "from notte.mailing.base import EmailConfig, EmailService\n",
    "import os\n",
    "\n",
    "config = EmailConfig(\n",
    "    smtp_server=\"smtp.gmail.com\",\n",
    "    smtp_port=587,\n",
    "    sender_email=os.getenv(\"EMAIL_SENDER\"),\n",
    "    sender_password=os.getenv(\"EMAIL_PASSWORD\"),\n",
    "    receiver_email=os.getenv(\"EMAIL_RECEIVER\"),\n",
    "    subject_prefix=\"[Test] \"\n",
    ")\n",
    "\n",
    "# Initialize email service\n",
    "email_service = EmailService(config)\n",
    "\n",
    "# Since the methods are async, you need to use await\n",
    "await email_service.connect()\n",
    "\n",
    "# Test sending a test email\n",
    "await email_service.send_completion_email(\n",
    "    task=\"Test task\",\n",
    "    result=\"This is a test result\",\n",
    "    success=True\n",
    ")\n",
    "\n",
    "# Test disconnection\n",
    "await email_service.disconnect()"
   ]
  }
 ],
 "metadata": {
  "kernelspec": {
   "display_name": "Python 3",
   "language": "python",
   "name": "python3"
  },
  "language_info": {
   "codemirror_mode": {
    "name": "ipython",
    "version": 3
   },
   "file_extension": ".py",
   "mimetype": "text/x-python",
   "name": "python",
   "nbconvert_exporter": "python",
   "pygments_lexer": "ipython3",
   "version": "3.11.1"
  }
 },
 "nbformat": 4,
 "nbformat_minor": 2
}
